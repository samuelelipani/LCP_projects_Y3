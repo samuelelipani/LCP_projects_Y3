{
 "metadata": {
  "language_info": {
   "codemirror_mode": {
    "name": "ipython",
    "version": 3
   },
   "file_extension": ".py",
   "mimetype": "text/x-python",
   "name": "python",
   "nbconvert_exporter": "python",
   "pygments_lexer": "ipython3",
   "version": "3.9.1-final"
  },
  "orig_nbformat": 2,
  "kernelspec": {
   "name": "python3",
   "display_name": "Python 3",
   "language": "python"
  }
 },
 "nbformat": 4,
 "nbformat_minor": 2,
 "cells": [
  {
   "cell_type": "code",
   "execution_count": 96,
   "metadata": {},
   "outputs": [],
   "source": [
    "import numpy as np \n",
    "import pandas as pd \n",
    "import time \n",
    "import timeit \n",
    "import matplotlib.pyplot as plt\n",
    "import matplotlib.patches as patches\n",
    "from scipy.stats import linregress\n",
    "from itertools import combinations, permutations"
   ]
  },
  {
   "cell_type": "code",
   "execution_count": 2,
   "metadata": {},
   "outputs": [
    {
     "output_type": "display_data",
     "data": {
      "text/plain": "        TDC_CHANNEL     ORBIT_CNT  BX_COUNTER  TDC_MEAS          TIME  \\\n0              13.0  1.897417e+09       445.0      24.0  11145.000000   \n1              14.0  1.897417e+09       450.0       9.0  11257.500000   \n2              16.0  1.897417e+09       452.0      17.0  11314.166667   \n3              15.0  1.897417e+09       458.0       9.0  11457.500000   \n4              89.0  1.897417e+09       300.0      27.0   7522.500000   \n...             ...           ...         ...       ...           ...   \n114790         19.0  1.920940e+09      1449.0       2.0  36226.666667   \n114791         55.0  1.920940e+09       325.0       4.0   8128.333333   \n114792         56.0  1.920940e+09       327.0      22.0   8193.333333   \n114793         54.0  1.920940e+09       331.0      20.0   8291.666667   \n114794         53.0  1.920940e+09       334.0      15.0   8362.500000   \n\n        DETECTOR  LAYER  EVENT  TIME_PEDESTAL  DRIFT_TIME          X  COLUMN  \n0            3.0    4.0    1.0        11350.0  205.000000  11.038462       4  \n1            3.0    2.0    1.0        11350.0   92.500000   4.980769       4  \n2            3.0    1.0    1.0        11350.0   35.833333   1.929487       4  \n3            3.0    3.0    1.0        11350.0  107.500000   5.788462       4  \n4            2.0    4.0    1.0         7825.0  302.500000  16.288462       7  \n...          ...    ...    ...            ...         ...        ...     ...  \n114790       3.0    3.0    1.0        36075.0  151.666667   8.166667       5  \n114791       3.0    3.0    1.0         8225.0   96.666667   5.205128      14  \n114792       3.0    1.0    1.0         8225.0   31.666667   1.705128      14  \n114793       3.0    2.0    1.0         8225.0   66.666667   3.589744      14  \n114794       3.0    4.0    1.0         8225.0  137.500000   7.403846      14  \n\n[114795 rows x 12 columns]",
      "text/html": "<div>\n<style scoped>\n    .dataframe tbody tr th:only-of-type {\n        vertical-align: middle;\n    }\n\n    .dataframe tbody tr th {\n        vertical-align: top;\n    }\n\n    .dataframe thead th {\n        text-align: right;\n    }\n</style>\n<table border=\"1\" class=\"dataframe\">\n  <thead>\n    <tr style=\"text-align: right;\">\n      <th></th>\n      <th>TDC_CHANNEL</th>\n      <th>ORBIT_CNT</th>\n      <th>BX_COUNTER</th>\n      <th>TDC_MEAS</th>\n      <th>TIME</th>\n      <th>DETECTOR</th>\n      <th>LAYER</th>\n      <th>EVENT</th>\n      <th>TIME_PEDESTAL</th>\n      <th>DRIFT_TIME</th>\n      <th>X</th>\n      <th>COLUMN</th>\n    </tr>\n  </thead>\n  <tbody>\n    <tr>\n      <th>0</th>\n      <td>13.0</td>\n      <td>1.897417e+09</td>\n      <td>445.0</td>\n      <td>24.0</td>\n      <td>11145.000000</td>\n      <td>3.0</td>\n      <td>4.0</td>\n      <td>1.0</td>\n      <td>11350.0</td>\n      <td>205.000000</td>\n      <td>11.038462</td>\n      <td>4</td>\n    </tr>\n    <tr>\n      <th>1</th>\n      <td>14.0</td>\n      <td>1.897417e+09</td>\n      <td>450.0</td>\n      <td>9.0</td>\n      <td>11257.500000</td>\n      <td>3.0</td>\n      <td>2.0</td>\n      <td>1.0</td>\n      <td>11350.0</td>\n      <td>92.500000</td>\n      <td>4.980769</td>\n      <td>4</td>\n    </tr>\n    <tr>\n      <th>2</th>\n      <td>16.0</td>\n      <td>1.897417e+09</td>\n      <td>452.0</td>\n      <td>17.0</td>\n      <td>11314.166667</td>\n      <td>3.0</td>\n      <td>1.0</td>\n      <td>1.0</td>\n      <td>11350.0</td>\n      <td>35.833333</td>\n      <td>1.929487</td>\n      <td>4</td>\n    </tr>\n    <tr>\n      <th>3</th>\n      <td>15.0</td>\n      <td>1.897417e+09</td>\n      <td>458.0</td>\n      <td>9.0</td>\n      <td>11457.500000</td>\n      <td>3.0</td>\n      <td>3.0</td>\n      <td>1.0</td>\n      <td>11350.0</td>\n      <td>107.500000</td>\n      <td>5.788462</td>\n      <td>4</td>\n    </tr>\n    <tr>\n      <th>4</th>\n      <td>89.0</td>\n      <td>1.897417e+09</td>\n      <td>300.0</td>\n      <td>27.0</td>\n      <td>7522.500000</td>\n      <td>2.0</td>\n      <td>4.0</td>\n      <td>1.0</td>\n      <td>7825.0</td>\n      <td>302.500000</td>\n      <td>16.288462</td>\n      <td>7</td>\n    </tr>\n    <tr>\n      <th>...</th>\n      <td>...</td>\n      <td>...</td>\n      <td>...</td>\n      <td>...</td>\n      <td>...</td>\n      <td>...</td>\n      <td>...</td>\n      <td>...</td>\n      <td>...</td>\n      <td>...</td>\n      <td>...</td>\n      <td>...</td>\n    </tr>\n    <tr>\n      <th>114790</th>\n      <td>19.0</td>\n      <td>1.920940e+09</td>\n      <td>1449.0</td>\n      <td>2.0</td>\n      <td>36226.666667</td>\n      <td>3.0</td>\n      <td>3.0</td>\n      <td>1.0</td>\n      <td>36075.0</td>\n      <td>151.666667</td>\n      <td>8.166667</td>\n      <td>5</td>\n    </tr>\n    <tr>\n      <th>114791</th>\n      <td>55.0</td>\n      <td>1.920940e+09</td>\n      <td>325.0</td>\n      <td>4.0</td>\n      <td>8128.333333</td>\n      <td>3.0</td>\n      <td>3.0</td>\n      <td>1.0</td>\n      <td>8225.0</td>\n      <td>96.666667</td>\n      <td>5.205128</td>\n      <td>14</td>\n    </tr>\n    <tr>\n      <th>114792</th>\n      <td>56.0</td>\n      <td>1.920940e+09</td>\n      <td>327.0</td>\n      <td>22.0</td>\n      <td>8193.333333</td>\n      <td>3.0</td>\n      <td>1.0</td>\n      <td>1.0</td>\n      <td>8225.0</td>\n      <td>31.666667</td>\n      <td>1.705128</td>\n      <td>14</td>\n    </tr>\n    <tr>\n      <th>114793</th>\n      <td>54.0</td>\n      <td>1.920940e+09</td>\n      <td>331.0</td>\n      <td>20.0</td>\n      <td>8291.666667</td>\n      <td>3.0</td>\n      <td>2.0</td>\n      <td>1.0</td>\n      <td>8225.0</td>\n      <td>66.666667</td>\n      <td>3.589744</td>\n      <td>14</td>\n    </tr>\n    <tr>\n      <th>114794</th>\n      <td>53.0</td>\n      <td>1.920940e+09</td>\n      <td>334.0</td>\n      <td>15.0</td>\n      <td>8362.500000</td>\n      <td>3.0</td>\n      <td>4.0</td>\n      <td>1.0</td>\n      <td>8225.0</td>\n      <td>137.500000</td>\n      <td>7.403846</td>\n      <td>14</td>\n    </tr>\n  </tbody>\n</table>\n<p>114795 rows × 12 columns</p>\n</div>"
     },
     "metadata": {}
    }
   ],
   "source": [
    "dataset = pd.read_csv(\"dati_MM1.csv\") #tanto vale andare di ordine 2\n",
    "display(dataset) #non contiene i trigger che ormai non ci servono più (abbiamo il time pedestal e tutto)"
   ]
  },
  {
   "source": [
    "se ho X, COLUMN e LAYER posso costruire XR e XL come column +- x in un modo layer dependent; questo significa che tutte le altre colonne del dataframe non mi servono più e pertanto me ne sbarazzo (ma in modo \"safe\", cioè con una copia del dataset). Devo tenere orbit ed event perché mi aiutano ad identificare l'appartenenza di un dato hit ad un dato evento; infine aggiungo le colonne che riempirò a breve per indicare la posizione assoluta con ambiguità non risolta."
   ],
   "cell_type": "markdown",
   "metadata": {}
  },
  {
   "cell_type": "code",
   "execution_count": 51,
   "metadata": {},
   "outputs": [
    {
     "output_type": "display_data",
     "data": {
      "text/plain": "           ORBIT_CNT  LAYER  EVENT          X  COLUMN  XR  XL\n0       1.897417e+09    4.0    1.0  11.038462       4 NaN NaN\n1       1.897417e+09    2.0    1.0   4.980769       4 NaN NaN\n2       1.897417e+09    1.0    1.0   1.929487       4 NaN NaN\n3       1.897417e+09    3.0    1.0   5.788462       4 NaN NaN\n4       1.897417e+09    4.0    1.0  16.288462       7 NaN NaN\n...              ...    ...    ...        ...     ...  ..  ..\n114790  1.920940e+09    3.0    1.0   8.166667       5 NaN NaN\n114791  1.920940e+09    3.0    1.0   5.205128      14 NaN NaN\n114792  1.920940e+09    1.0    1.0   1.705128      14 NaN NaN\n114793  1.920940e+09    2.0    1.0   3.589744      14 NaN NaN\n114794  1.920940e+09    4.0    1.0   7.403846      14 NaN NaN\n\n[114795 rows x 7 columns]",
      "text/html": "<div>\n<style scoped>\n    .dataframe tbody tr th:only-of-type {\n        vertical-align: middle;\n    }\n\n    .dataframe tbody tr th {\n        vertical-align: top;\n    }\n\n    .dataframe thead th {\n        text-align: right;\n    }\n</style>\n<table border=\"1\" class=\"dataframe\">\n  <thead>\n    <tr style=\"text-align: right;\">\n      <th></th>\n      <th>ORBIT_CNT</th>\n      <th>LAYER</th>\n      <th>EVENT</th>\n      <th>X</th>\n      <th>COLUMN</th>\n      <th>XR</th>\n      <th>XL</th>\n    </tr>\n  </thead>\n  <tbody>\n    <tr>\n      <th>0</th>\n      <td>1.897417e+09</td>\n      <td>4.0</td>\n      <td>1.0</td>\n      <td>11.038462</td>\n      <td>4</td>\n      <td>NaN</td>\n      <td>NaN</td>\n    </tr>\n    <tr>\n      <th>1</th>\n      <td>1.897417e+09</td>\n      <td>2.0</td>\n      <td>1.0</td>\n      <td>4.980769</td>\n      <td>4</td>\n      <td>NaN</td>\n      <td>NaN</td>\n    </tr>\n    <tr>\n      <th>2</th>\n      <td>1.897417e+09</td>\n      <td>1.0</td>\n      <td>1.0</td>\n      <td>1.929487</td>\n      <td>4</td>\n      <td>NaN</td>\n      <td>NaN</td>\n    </tr>\n    <tr>\n      <th>3</th>\n      <td>1.897417e+09</td>\n      <td>3.0</td>\n      <td>1.0</td>\n      <td>5.788462</td>\n      <td>4</td>\n      <td>NaN</td>\n      <td>NaN</td>\n    </tr>\n    <tr>\n      <th>4</th>\n      <td>1.897417e+09</td>\n      <td>4.0</td>\n      <td>1.0</td>\n      <td>16.288462</td>\n      <td>7</td>\n      <td>NaN</td>\n      <td>NaN</td>\n    </tr>\n    <tr>\n      <th>...</th>\n      <td>...</td>\n      <td>...</td>\n      <td>...</td>\n      <td>...</td>\n      <td>...</td>\n      <td>...</td>\n      <td>...</td>\n    </tr>\n    <tr>\n      <th>114790</th>\n      <td>1.920940e+09</td>\n      <td>3.0</td>\n      <td>1.0</td>\n      <td>8.166667</td>\n      <td>5</td>\n      <td>NaN</td>\n      <td>NaN</td>\n    </tr>\n    <tr>\n      <th>114791</th>\n      <td>1.920940e+09</td>\n      <td>3.0</td>\n      <td>1.0</td>\n      <td>5.205128</td>\n      <td>14</td>\n      <td>NaN</td>\n      <td>NaN</td>\n    </tr>\n    <tr>\n      <th>114792</th>\n      <td>1.920940e+09</td>\n      <td>1.0</td>\n      <td>1.0</td>\n      <td>1.705128</td>\n      <td>14</td>\n      <td>NaN</td>\n      <td>NaN</td>\n    </tr>\n    <tr>\n      <th>114793</th>\n      <td>1.920940e+09</td>\n      <td>2.0</td>\n      <td>1.0</td>\n      <td>3.589744</td>\n      <td>14</td>\n      <td>NaN</td>\n      <td>NaN</td>\n    </tr>\n    <tr>\n      <th>114794</th>\n      <td>1.920940e+09</td>\n      <td>4.0</td>\n      <td>1.0</td>\n      <td>7.403846</td>\n      <td>14</td>\n      <td>NaN</td>\n      <td>NaN</td>\n    </tr>\n  </tbody>\n</table>\n<p>114795 rows × 7 columns</p>\n</div>"
     },
     "metadata": {}
    }
   ],
   "source": [
    "df = dataset.copy() \n",
    "df = df[[\"ORBIT_CNT\",\"LAYER\",\"EVENT\",\"X\",\"COLUMN\"]]#tengo orbit, event, layer, column, x riassegnando a df se stesso a cui accedo mediante la lista delle colonne di interesse\n",
    "df[\"XR\"] = np.nan\n",
    "df[\"XL\"] = np.nan\n",
    "display(df)\n",
    "#df.info(memory_usage=\"deep\") #4.4 mb"
   ]
  },
  {
   "source": [
    "Adesso devo calcolare XR e XL, cioè le colonne contenenti le posizioni in coordinate assolute a partire da \"in basso a sinistra\" in mm (con ambiguità). Questo calcolo era già stato fatto (ma senza salvarne il risultato) dentro la funzione di disegno nel notebook precedente; mi basta allora riciclare parti di quel codice."
   ],
   "cell_type": "markdown",
   "metadata": {}
  },
  {
   "cell_type": "code",
   "execution_count": 53,
   "metadata": {},
   "outputs": [
    {
     "output_type": "display_data",
     "data": {
      "text/plain": "           ORBIT_CNT  LAYER  EVENT          X  COLUMN          XR          XL\n0       1.897417e+09    4.0    1.0  11.038462       4  179.038462  156.961538\n1       1.897417e+09    2.0    1.0   4.980769       4  172.980769  163.019231\n2       1.897417e+09    1.0    1.0   1.929487       4  148.929487  145.070513\n3       1.897417e+09    3.0    1.0   5.788462       4  152.788462  141.211538\n4       1.897417e+09    4.0    1.0  16.288462       7  310.288462  277.711538\n...              ...    ...    ...        ...     ...         ...         ...\n114790  1.920940e+09    3.0    1.0   8.166667       5  197.166667  180.833333\n114791  1.920940e+09    3.0    1.0   5.205128      14  572.205128  561.794872\n114792  1.920940e+09    1.0    1.0   1.705128      14  568.705128  565.294872\n114793  1.920940e+09    2.0    1.0   3.589744      14  591.589744  584.410256\n114794  1.920940e+09    4.0    1.0   7.403846      14  595.403846  580.596154\n\n[114795 rows x 7 columns]",
      "text/html": "<div>\n<style scoped>\n    .dataframe tbody tr th:only-of-type {\n        vertical-align: middle;\n    }\n\n    .dataframe tbody tr th {\n        vertical-align: top;\n    }\n\n    .dataframe thead th {\n        text-align: right;\n    }\n</style>\n<table border=\"1\" class=\"dataframe\">\n  <thead>\n    <tr style=\"text-align: right;\">\n      <th></th>\n      <th>ORBIT_CNT</th>\n      <th>LAYER</th>\n      <th>EVENT</th>\n      <th>X</th>\n      <th>COLUMN</th>\n      <th>XR</th>\n      <th>XL</th>\n    </tr>\n  </thead>\n  <tbody>\n    <tr>\n      <th>0</th>\n      <td>1.897417e+09</td>\n      <td>4.0</td>\n      <td>1.0</td>\n      <td>11.038462</td>\n      <td>4</td>\n      <td>179.038462</td>\n      <td>156.961538</td>\n    </tr>\n    <tr>\n      <th>1</th>\n      <td>1.897417e+09</td>\n      <td>2.0</td>\n      <td>1.0</td>\n      <td>4.980769</td>\n      <td>4</td>\n      <td>172.980769</td>\n      <td>163.019231</td>\n    </tr>\n    <tr>\n      <th>2</th>\n      <td>1.897417e+09</td>\n      <td>1.0</td>\n      <td>1.0</td>\n      <td>1.929487</td>\n      <td>4</td>\n      <td>148.929487</td>\n      <td>145.070513</td>\n    </tr>\n    <tr>\n      <th>3</th>\n      <td>1.897417e+09</td>\n      <td>3.0</td>\n      <td>1.0</td>\n      <td>5.788462</td>\n      <td>4</td>\n      <td>152.788462</td>\n      <td>141.211538</td>\n    </tr>\n    <tr>\n      <th>4</th>\n      <td>1.897417e+09</td>\n      <td>4.0</td>\n      <td>1.0</td>\n      <td>16.288462</td>\n      <td>7</td>\n      <td>310.288462</td>\n      <td>277.711538</td>\n    </tr>\n    <tr>\n      <th>...</th>\n      <td>...</td>\n      <td>...</td>\n      <td>...</td>\n      <td>...</td>\n      <td>...</td>\n      <td>...</td>\n      <td>...</td>\n    </tr>\n    <tr>\n      <th>114790</th>\n      <td>1.920940e+09</td>\n      <td>3.0</td>\n      <td>1.0</td>\n      <td>8.166667</td>\n      <td>5</td>\n      <td>197.166667</td>\n      <td>180.833333</td>\n    </tr>\n    <tr>\n      <th>114791</th>\n      <td>1.920940e+09</td>\n      <td>3.0</td>\n      <td>1.0</td>\n      <td>5.205128</td>\n      <td>14</td>\n      <td>572.205128</td>\n      <td>561.794872</td>\n    </tr>\n    <tr>\n      <th>114792</th>\n      <td>1.920940e+09</td>\n      <td>1.0</td>\n      <td>1.0</td>\n      <td>1.705128</td>\n      <td>14</td>\n      <td>568.705128</td>\n      <td>565.294872</td>\n    </tr>\n    <tr>\n      <th>114793</th>\n      <td>1.920940e+09</td>\n      <td>2.0</td>\n      <td>1.0</td>\n      <td>3.589744</td>\n      <td>14</td>\n      <td>591.589744</td>\n      <td>584.410256</td>\n    </tr>\n    <tr>\n      <th>114794</th>\n      <td>1.920940e+09</td>\n      <td>4.0</td>\n      <td>1.0</td>\n      <td>7.403846</td>\n      <td>14</td>\n      <td>595.403846</td>\n      <td>580.596154</td>\n    </tr>\n  </tbody>\n</table>\n<p>114795 rows × 7 columns</p>\n</div>"
     },
     "metadata": {}
    }
   ],
   "source": [
    "def compute_xr_xl(hit) :\n",
    "    dx = 42 #lunghezza di un rettangolo in mm\n",
    "\n",
    "    #anche stavolta le serie danno problemi, gli array di numpy no!\n",
    "    if hit.LAYER.to_numpy(dtype=int) % 2 != 0 : #mi viene meglio fare prima il caso senza traslazione\n",
    "            hit[\"XR\"] = dx * (hit.COLUMN - 1/2) + hit.X #stessa formula di prima +- X\n",
    "            hit[\"XL\"] = dx * (hit.COLUMN - 1/2) - hit.X\n",
    "    else :\n",
    "        hit[\"XR\"] = dx * hit.COLUMN + hit.X #qui devo sommare dx/2 per tenere conto della traslazione dei layer 2 e 4 (nella nostra convenzione), quindi il -1/2 di prima si semplifica \n",
    "        hit[\"XL\"] = dx * hit.COLUMN - hit.X \n",
    "    return hit\n",
    "\n",
    "df = df.groupby([\"ORBIT_CNT\",\"EVENT\",\"LAYER\"],group_keys=False).apply(compute_xr_xl) #fissare orbit ed event mi dà ~4 hits; siccome abbiamo eliminato tempo fa le hits con più celle attive sullo stesso layer se raggruppo anche per layer posso stare certo di trovare un'unica hit da utilizzare nella funzione di cui sopra\n",
    "display(df)"
   ]
  },
  {
   "source": [
    "Per potere effettuare un fit mi serve anche il valore di Y (che è lo stesso per XR e XL). Per calcolarlo basta usare la stessa formula usata nella funzione per graficare il detector nel time pedestal, che dipende solo dal valore del layer"
   ],
   "cell_type": "markdown",
   "metadata": {}
  },
  {
   "cell_type": "code",
   "execution_count": 57,
   "metadata": {},
   "outputs": [
    {
     "output_type": "display_data",
     "data": {
      "text/plain": "           ORBIT_CNT  EVENT          XR          XL  LAYER     Y\n0       1.897417e+09    1.0  179.038462  156.961538    4.0  45.5\n1       1.897417e+09    1.0  172.980769  163.019231    2.0  19.5\n2       1.897417e+09    1.0  148.929487  145.070513    1.0   6.5\n3       1.897417e+09    1.0  152.788462  141.211538    3.0  32.5\n4       1.897417e+09    1.0  310.288462  277.711538    4.0  45.5\n...              ...    ...         ...         ...    ...   ...\n114790  1.920940e+09    1.0  197.166667  180.833333    3.0  32.5\n114791  1.920940e+09    1.0  572.205128  561.794872    3.0  32.5\n114792  1.920940e+09    1.0  568.705128  565.294872    1.0   6.5\n114793  1.920940e+09    1.0  591.589744  584.410256    2.0  19.5\n114794  1.920940e+09    1.0  595.403846  580.596154    4.0  45.5\n\n[114795 rows x 6 columns]",
      "text/html": "<div>\n<style scoped>\n    .dataframe tbody tr th:only-of-type {\n        vertical-align: middle;\n    }\n\n    .dataframe tbody tr th {\n        vertical-align: top;\n    }\n\n    .dataframe thead th {\n        text-align: right;\n    }\n</style>\n<table border=\"1\" class=\"dataframe\">\n  <thead>\n    <tr style=\"text-align: right;\">\n      <th></th>\n      <th>ORBIT_CNT</th>\n      <th>EVENT</th>\n      <th>XR</th>\n      <th>XL</th>\n      <th>LAYER</th>\n      <th>Y</th>\n    </tr>\n  </thead>\n  <tbody>\n    <tr>\n      <th>0</th>\n      <td>1.897417e+09</td>\n      <td>1.0</td>\n      <td>179.038462</td>\n      <td>156.961538</td>\n      <td>4.0</td>\n      <td>45.5</td>\n    </tr>\n    <tr>\n      <th>1</th>\n      <td>1.897417e+09</td>\n      <td>1.0</td>\n      <td>172.980769</td>\n      <td>163.019231</td>\n      <td>2.0</td>\n      <td>19.5</td>\n    </tr>\n    <tr>\n      <th>2</th>\n      <td>1.897417e+09</td>\n      <td>1.0</td>\n      <td>148.929487</td>\n      <td>145.070513</td>\n      <td>1.0</td>\n      <td>6.5</td>\n    </tr>\n    <tr>\n      <th>3</th>\n      <td>1.897417e+09</td>\n      <td>1.0</td>\n      <td>152.788462</td>\n      <td>141.211538</td>\n      <td>3.0</td>\n      <td>32.5</td>\n    </tr>\n    <tr>\n      <th>4</th>\n      <td>1.897417e+09</td>\n      <td>1.0</td>\n      <td>310.288462</td>\n      <td>277.711538</td>\n      <td>4.0</td>\n      <td>45.5</td>\n    </tr>\n    <tr>\n      <th>...</th>\n      <td>...</td>\n      <td>...</td>\n      <td>...</td>\n      <td>...</td>\n      <td>...</td>\n      <td>...</td>\n    </tr>\n    <tr>\n      <th>114790</th>\n      <td>1.920940e+09</td>\n      <td>1.0</td>\n      <td>197.166667</td>\n      <td>180.833333</td>\n      <td>3.0</td>\n      <td>32.5</td>\n    </tr>\n    <tr>\n      <th>114791</th>\n      <td>1.920940e+09</td>\n      <td>1.0</td>\n      <td>572.205128</td>\n      <td>561.794872</td>\n      <td>3.0</td>\n      <td>32.5</td>\n    </tr>\n    <tr>\n      <th>114792</th>\n      <td>1.920940e+09</td>\n      <td>1.0</td>\n      <td>568.705128</td>\n      <td>565.294872</td>\n      <td>1.0</td>\n      <td>6.5</td>\n    </tr>\n    <tr>\n      <th>114793</th>\n      <td>1.920940e+09</td>\n      <td>1.0</td>\n      <td>591.589744</td>\n      <td>584.410256</td>\n      <td>2.0</td>\n      <td>19.5</td>\n    </tr>\n    <tr>\n      <th>114794</th>\n      <td>1.920940e+09</td>\n      <td>1.0</td>\n      <td>595.403846</td>\n      <td>580.596154</td>\n      <td>4.0</td>\n      <td>45.5</td>\n    </tr>\n  </tbody>\n</table>\n<p>114795 rows × 6 columns</p>\n</div>"
     },
     "metadata": {}
    }
   ],
   "source": [
    "dy = 13 #altezza singolo rettangolo in mm\n",
    "df[\"Y\"] = dy * (df.LAYER-1/2)\n",
    "display(df)"
   ]
  },
  {
   "source": [
    "A questo punto posso alleggerirmi ancora tenendo solo orbit ed event (per identificare l'evento) + XR, XL e Y per il calcolo delle rette."
   ],
   "cell_type": "markdown",
   "metadata": {}
  },
  {
   "cell_type": "code",
   "execution_count": 58,
   "metadata": {},
   "outputs": [
    {
     "output_type": "display_data",
     "data": {
      "text/plain": "           ORBIT_CNT  EVENT          XR          XL     Y\n0       1.897417e+09    1.0  179.038462  156.961538  45.5\n1       1.897417e+09    1.0  172.980769  163.019231  19.5\n2       1.897417e+09    1.0  148.929487  145.070513   6.5\n3       1.897417e+09    1.0  152.788462  141.211538  32.5\n4       1.897417e+09    1.0  310.288462  277.711538  45.5\n...              ...    ...         ...         ...   ...\n114790  1.920940e+09    1.0  197.166667  180.833333  32.5\n114791  1.920940e+09    1.0  572.205128  561.794872  32.5\n114792  1.920940e+09    1.0  568.705128  565.294872   6.5\n114793  1.920940e+09    1.0  591.589744  584.410256  19.5\n114794  1.920940e+09    1.0  595.403846  580.596154  45.5\n\n[114795 rows x 5 columns]",
      "text/html": "<div>\n<style scoped>\n    .dataframe tbody tr th:only-of-type {\n        vertical-align: middle;\n    }\n\n    .dataframe tbody tr th {\n        vertical-align: top;\n    }\n\n    .dataframe thead th {\n        text-align: right;\n    }\n</style>\n<table border=\"1\" class=\"dataframe\">\n  <thead>\n    <tr style=\"text-align: right;\">\n      <th></th>\n      <th>ORBIT_CNT</th>\n      <th>EVENT</th>\n      <th>XR</th>\n      <th>XL</th>\n      <th>Y</th>\n    </tr>\n  </thead>\n  <tbody>\n    <tr>\n      <th>0</th>\n      <td>1.897417e+09</td>\n      <td>1.0</td>\n      <td>179.038462</td>\n      <td>156.961538</td>\n      <td>45.5</td>\n    </tr>\n    <tr>\n      <th>1</th>\n      <td>1.897417e+09</td>\n      <td>1.0</td>\n      <td>172.980769</td>\n      <td>163.019231</td>\n      <td>19.5</td>\n    </tr>\n    <tr>\n      <th>2</th>\n      <td>1.897417e+09</td>\n      <td>1.0</td>\n      <td>148.929487</td>\n      <td>145.070513</td>\n      <td>6.5</td>\n    </tr>\n    <tr>\n      <th>3</th>\n      <td>1.897417e+09</td>\n      <td>1.0</td>\n      <td>152.788462</td>\n      <td>141.211538</td>\n      <td>32.5</td>\n    </tr>\n    <tr>\n      <th>4</th>\n      <td>1.897417e+09</td>\n      <td>1.0</td>\n      <td>310.288462</td>\n      <td>277.711538</td>\n      <td>45.5</td>\n    </tr>\n    <tr>\n      <th>...</th>\n      <td>...</td>\n      <td>...</td>\n      <td>...</td>\n      <td>...</td>\n      <td>...</td>\n    </tr>\n    <tr>\n      <th>114790</th>\n      <td>1.920940e+09</td>\n      <td>1.0</td>\n      <td>197.166667</td>\n      <td>180.833333</td>\n      <td>32.5</td>\n    </tr>\n    <tr>\n      <th>114791</th>\n      <td>1.920940e+09</td>\n      <td>1.0</td>\n      <td>572.205128</td>\n      <td>561.794872</td>\n      <td>32.5</td>\n    </tr>\n    <tr>\n      <th>114792</th>\n      <td>1.920940e+09</td>\n      <td>1.0</td>\n      <td>568.705128</td>\n      <td>565.294872</td>\n      <td>6.5</td>\n    </tr>\n    <tr>\n      <th>114793</th>\n      <td>1.920940e+09</td>\n      <td>1.0</td>\n      <td>591.589744</td>\n      <td>584.410256</td>\n      <td>19.5</td>\n    </tr>\n    <tr>\n      <th>114794</th>\n      <td>1.920940e+09</td>\n      <td>1.0</td>\n      <td>595.403846</td>\n      <td>580.596154</td>\n      <td>45.5</td>\n    </tr>\n  </tbody>\n</table>\n<p>114795 rows × 5 columns</p>\n</div>"
     },
     "metadata": {}
    }
   ],
   "source": [
    "df = df[[\"ORBIT_CNT\",\"EVENT\",\"XR\",\"XL\",\"Y\"]]\n",
    "display(df)"
   ]
  },
  {
   "source": [
    "Adesso arriva il bello!! \n",
    "Supponiamo di avere un evento dotato di 4 hits (una per layer) per un totale di 8 punti candidati a costruire la nostra retta. Per ciascun livello dobbiamo scegliere un punto; dal momento che abbiamo due punti da scegliere da ciascun layer e 4 layer in totale questo significa che abbiamo 2^4=16 possibili combinazioni di punti. Se l'evento \"funziona\" una di queste combinazioni produrrà una retta che attraverserà in pieno TUTTI i punti con cui è stata costruita anziché solo alcuni; poiché ci sono degli errori sperimentali sui drift_times e quindi sulle XR/XL non possiamo aspettarci che la retta \"giusta\" attraversi esattamente i punti \"giusti\", quindi dobbiamo piuttosto cercare la retta di best fit che minimizza la distanza fra i punti e la retta di best fit stessa.  \n",
    "Volendo lavorare a forza bruta possiamo procedere così: \n",
    "- mediante meshgrid, transpose e reshape costruiamo in modo molto efficiente le 16 possibili combinazioni menzionate sopra. Come/perché questo funzioni è un po' difficile da spiegare; alla fine ci sono delle celle che ho usato per fare dei test che dovrebbero contenere un abbozzo di spiegazione, ma per il momento mi mantengo sul vago. L'alternativa è usare itertools.combinations, che pur essendo molto più intuitivo pare sia non altrettanto performante e mealleabile ai nostri scopi.\n",
    "- per ciascuna di queste 16 combinazioni calcoliamo la retta di best fit mediante scipy.stats.linregress(); pare che questa sia la funzione che non ci richieda di costruire esplicitamente una matrice da invertire più veloce per effettuare la regressione lineare (stando a [questo articolo](https://www.freecodecamp.org/news/data-science-with-python-8-ways-to-do-linear-regression-and-measure-their-speed-b5577d75f8b/), perlomeno). Per misurare quella che si adatta meglio guardiamo al coefficiente di correlazione lineare r e scegliamo quella con r massimo; poiché non mi va di sprecare memoria per rette quasi tutte da buttare penso sia una buona idea tenere traccia della retta migliore e ogni volta confrontare con la successiva e scartare la retta sconfitta (si possono provare alternative, comunque. Magari salvandole e poi massimizzando r viene meglio, boh). Chiaramente oltre alla retta migliore salviamo quale combinazione di punti l'abbia prodotta!\n",
    "- in linea di principio fatto questo lavoro dobbiamo controllare quale sia la massima distanza orizzontale di un qualunque punto selezionato dalla retta stessa. Sappiamo che nel caso di eventi buoni tale distanza è minore dell'incertezza sperimentale data da v_drift*25 ns; se questa condizione non si verifica vuol dire che la misura in questione non è compatibile con una traiettoria rettilinea che attraversi tutti i punti osservati (entro l'incertezza sperimentale) in nessun caso, e quindi l'evento va scartato.  \n",
    "  \n",
    "Ovviamente l'approccio di cui sopra è a forza bruta e probabilmente come prestazioni fa schifo, quindi mi limito a lavorare per il momento con un mini dataframe se non altro per arrivare a qualche risultato; oltre a scrivere le cose in modo più efficiente ha senso pensare ad un algoritmo che non abbia bisogno di costruire tutte e 16 le rette. Come detto la costruzione di tutte le coppie possibili mediante meshgrid è molto veloce, quindi è ragionevole aspettarsi che il grosso del tempo venga impiegato dai fit e dai confronti; per questo è desiderabile adottare una strategia più furba. Per ora vado a forza bruta incrociando le dita  \n",
    "\n",
    "NOTA EXTRA: meshgrid mi è fallito per il momento, uso itertools.combinations"
   ],
   "cell_type": "markdown",
   "metadata": {}
  },
  {
   "cell_type": "code",
   "execution_count": 64,
   "metadata": {},
   "outputs": [
    {
     "output_type": "display_data",
     "data": {
      "text/plain": "      ORBIT_CNT  EVENT          XR          XL     Y\n0  1.897417e+09    1.0  179.038462  156.961538  45.5\n1  1.897417e+09    1.0  172.980769  163.019231  19.5\n2  1.897417e+09    1.0  148.929487  145.070513   6.5\n3  1.897417e+09    1.0  152.788462  141.211538  32.5",
      "text/html": "<div>\n<style scoped>\n    .dataframe tbody tr th:only-of-type {\n        vertical-align: middle;\n    }\n\n    .dataframe tbody tr th {\n        vertical-align: top;\n    }\n\n    .dataframe thead th {\n        text-align: right;\n    }\n</style>\n<table border=\"1\" class=\"dataframe\">\n  <thead>\n    <tr style=\"text-align: right;\">\n      <th></th>\n      <th>ORBIT_CNT</th>\n      <th>EVENT</th>\n      <th>XR</th>\n      <th>XL</th>\n      <th>Y</th>\n    </tr>\n  </thead>\n  <tbody>\n    <tr>\n      <th>0</th>\n      <td>1.897417e+09</td>\n      <td>1.0</td>\n      <td>179.038462</td>\n      <td>156.961538</td>\n      <td>45.5</td>\n    </tr>\n    <tr>\n      <th>1</th>\n      <td>1.897417e+09</td>\n      <td>1.0</td>\n      <td>172.980769</td>\n      <td>163.019231</td>\n      <td>19.5</td>\n    </tr>\n    <tr>\n      <th>2</th>\n      <td>1.897417e+09</td>\n      <td>1.0</td>\n      <td>148.929487</td>\n      <td>145.070513</td>\n      <td>6.5</td>\n    </tr>\n    <tr>\n      <th>3</th>\n      <td>1.897417e+09</td>\n      <td>1.0</td>\n      <td>152.788462</td>\n      <td>141.211538</td>\n      <td>32.5</td>\n    </tr>\n  </tbody>\n</table>\n</div>"
     },
     "metadata": {}
    }
   ],
   "source": [
    "df_mini = df[df.ORBIT_CNT == df.ORBIT_CNT.unique()[0]]\n",
    "display(df_mini)"
   ]
  },
  {
   "cell_type": "code",
   "execution_count": null,
   "metadata": {},
   "outputs": [],
   "source": [
    "def find_trajectory(event) :\n",
    "    #v = np.array(np.meshgrid(event.XR.to_numpy(),event.XL.to_numpy())).T.reshape((-1,2)) #le\n",
    "    # somo stanco"
   ]
  },
  {
   "cell_type": "code",
   "execution_count": 94,
   "metadata": {},
   "outputs": [
    {
     "output_type": "stream",
     "name": "stdout",
     "text": [
      "[(array([179.03846154, 156.96153846]), array([172.98076923, 163.01923077]), array([148.92948718, 145.07051282]), array([152.78846154, 141.21153846]))]\n"
     ]
    }
   ],
   "source": [
    "#print(list(combinations(df_mini[[\"XR\",\"XL\"]].values,4)))\n",
    "#list1 = \n",
    "\n",
    "#all_combinations = [list(zip(each_permutation, list2)) for each_permutation in permutations(list1, len(list2))]"
   ]
  },
  {
   "cell_type": "code",
   "execution_count": 81,
   "metadata": {},
   "outputs": [
    {
     "output_type": "stream",
     "name": "stdout",
     "text": [
      "[[[179.03846154 156.96153846]\n  [179.03846154 163.01923077]\n  [179.03846154 145.07051282]\n  [179.03846154 141.21153846]]\n\n [[172.98076923 156.96153846]\n  [172.98076923 163.01923077]\n  [172.98076923 145.07051282]\n  [172.98076923 141.21153846]]\n\n [[148.92948718 156.96153846]\n  [148.92948718 163.01923077]\n  [148.92948718 145.07051282]\n  [148.92948718 141.21153846]]\n\n [[152.78846154 156.96153846]\n  [152.78846154 163.01923077]\n  [152.78846154 145.07051282]\n  [152.78846154 141.21153846]]]\n"
     ]
    }
   ],
   "source": [
    "v = np.array(np.meshgrid(df_mini.XR.to_numpy(),df_mini.XL.to_numpy())).T#.reshape((-1,2))\n",
    "print(v)"
   ]
  },
  {
   "cell_type": "code",
   "execution_count": 86,
   "metadata": {},
   "outputs": [
    {
     "output_type": "stream",
     "name": "stdout",
     "text": [
      "[[179.03846154 156.96153846]\n [172.98076923 163.01923077]\n [148.92948718 145.07051282]\n [152.78846154 141.21153846]]\n"
     ]
    }
   ],
   "source": [
    "print(df_mini[[\"XR\",\"XL\"]].values)"
   ]
  },
  {
   "cell_type": "code",
   "execution_count": 89,
   "metadata": {},
   "outputs": [
    {
     "output_type": "stream",
     "name": "stdout",
     "text": [
      "[array([179.03846154, 156.96153846, 172.98076923, 163.01923077,\n       148.92948718, 145.07051282, 152.78846154, 141.21153846])]\n"
     ]
    }
   ],
   "source": [
    "v = (np.meshgrid(df_mini[[\"XR\",\"XL\"]].values))\n",
    "print(v)"
   ]
  },
  {
   "cell_type": "code",
   "execution_count": 11,
   "metadata": {},
   "outputs": [
    {
     "output_type": "stream",
     "name": "stdout",
     "text": [
      "[[[1 2 3]\n  [1 2 3]\n  [1 2 3]]\n\n [[4 4 4]\n  [5 5 5]\n  [6 6 6]]]\nok\n[[[1 4]\n  [1 5]\n  [1 6]]\n\n [[2 4]\n  [2 5]\n  [2 6]]\n\n [[3 4]\n  [3 5]\n  [3 6]]]\nokk\n(2, 3, 3)\n(3, 3, 2)\n"
     ]
    }
   ],
   "source": [
    " a = np.array([1,2,3])\n",
    " b = np.array([4,5,6])\n",
    " c = np.array(np.meshgrid(a,b))\n",
    " print(c)\n",
    " print(\"ok\")\n",
    " print(c.T)\n",
    " print(\"okk\")\n",
    " print(c.shape)\n",
    " print(c.T.shape)"
   ]
  },
  {
   "source": [
    "https://stackoverflow.com/questions/32034237/how-does-numpys-transpose-method-permute-the-axes-of-an-array \n",
    " \n",
    "La trasposizione senza tuple specificata in questo caso (3 assi) scambia il primo asse con l'ultimo (mantenendo fissato quello in mezzo). Inizialmente spostarsi lungo l'asse 0 significa saltare dal primo array 3x3 al secondo.  \n",
    "Se mi trovo in x[0,0,:] e passo a x[1,0,:] (sto mantenendo fissato il secondo indice) significa che passo dalla prima riga della prima matrice ([1,2,3]) alla prima della seconda ([4,5,6]); siccome dopo la trasposizione questo deve essere equivalente a spostarsi lungo l'ultima dimensione questo vuol dire che nell'array finale lo stesso salto equivale a passare da x[:,0,0] a x[:,0,1] (coerentemente col fatto che evidentemente ho scambiato gli stess indici tenendo fissato il secondo) - cioè a saltare dalla prima colonna della prima matrice alla seconda colonna della stessa. Allora nell'array finale avrò come x.T[:,0,0] quello che prima era x[0,0,:], cioè [1,2,3]. Analogamente x.T[0,0,:] deve essere uguale a x[:,0,0], cioè [[1],[4]]. Continuando così penso si spieghi il risultato ottenuto sopra che evidentemente contiene tutte le coppie che cerco costruite in modo molto efficiente  \n",
    "VEDI TABLET PER UN DISEGNO CHIARIFICATORE (e in generale boh, reinterpreta meglio)"
   ],
   "cell_type": "markdown",
   "metadata": {}
  },
  {
   "cell_type": "code",
   "execution_count": 18,
   "metadata": {},
   "outputs": [
    {
     "output_type": "stream",
     "name": "stdout",
     "text": [
      "a: [-1  1]\nb: [-2  2]\nc: [-3  3]\nd: [-4  4]\n\n\ne: [[[[[-1 -2 -3 -4]\n    [-1  2 -3 -4]]\n\n   [[ 1 -2 -3 -4]\n    [ 1  2 -3 -4]]]\n\n\n  [[[-1 -2  3 -4]\n    [-1  2  3 -4]]\n\n   [[ 1 -2  3 -4]\n    [ 1  2  3 -4]]]]\n\n\n\n [[[[-1 -2 -3  4]\n    [-1  2 -3  4]]\n\n   [[ 1 -2 -3  4]\n    [ 1  2 -3  4]]]\n\n\n  [[[-1 -2  3  4]\n    [-1  2  3  4]]\n\n   [[ 1 -2  3  4]\n    [ 1  2  3  4]]]]]\n"
     ]
    }
   ],
   "source": [
    "#https://stackoverflow.com/questions/1208118/using-numpy-to-build-an-array-of-all-combinations-of-two-arrays pare funzionare anche con più di 2 array dentro meshgrid\n",
    "a = np.array([-1,1])\n",
    "b = 2*a \n",
    "c = 3*a \n",
    "d = 4*a\n",
    "\n",
    "for i,j in zip([a,b,c,d],[\"a\",\"b\",\"c\",\"d\"]) :\n",
    "    print(\"%s:\"%j,i)\n",
    "e = np.array(np.meshgrid(a,b,c,d)).T\n",
    "print(\"\\n\")\n",
    "print(\"e:\",e) #ha effettivamente 2^4=16 array di 4 elementi (cioè 16 combinazioni)"
   ]
  }
 ]
}